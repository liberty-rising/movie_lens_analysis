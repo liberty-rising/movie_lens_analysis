{
 "cells": [
  {
   "cell_type": "code",
   "execution_count": 3,
   "metadata": {},
   "outputs": [],
   "source": [
    "import fastbook\n",
    "fastbook.setup_book()\n",
    "from fastbook import *"
   ]
  },
  {
   "cell_type": "code",
   "execution_count": 4,
   "metadata": {},
   "outputs": [],
   "source": [
    "from fastai.collab import *\n",
    "from fastai.tabular.all import *"
   ]
  },
  {
   "cell_type": "markdown",
   "metadata": {},
   "source": [
    "# Building and fitting the model"
   ]
  },
  {
   "cell_type": "code",
   "execution_count": 5,
   "metadata": {},
   "outputs": [],
   "source": [
    "path = untar_data(url = 'https://files.grouplens.org/datasets/movielens/ml-25m.zip', fname = 'ml-25m')"
   ]
  },
  {
   "cell_type": "code",
   "execution_count": 6,
   "metadata": {},
   "outputs": [
    {
     "data": {
      "text/plain": [
       "(#7) [Path('/storage/data/ml-25m/ratings.csv'),Path('/storage/data/ml-25m/tags.csv'),Path('/storage/data/ml-25m/links.csv'),Path('/storage/data/ml-25m/README.txt'),Path('/storage/data/ml-25m/movies.csv'),Path('/storage/data/ml-25m/genome-tags.csv'),Path('/storage/data/ml-25m/genome-scores.csv')]"
      ]
     },
     "execution_count": 6,
     "metadata": {},
     "output_type": "execute_result"
    }
   ],
   "source": [
    "path.ls()"
   ]
  },
  {
   "cell_type": "code",
   "execution_count": 7,
   "metadata": {},
   "outputs": [],
   "source": [
    "readme = path/'README.txt'"
   ]
  },
  {
   "cell_type": "code",
   "execution_count": 8,
   "metadata": {},
   "outputs": [
    {
     "data": {
      "text/plain": [
       "['Summary\\n',\n",
       " '=======\\n',\n",
       " '\\n',\n",
       " 'This dataset (ml-25m) describes 5-star rating and free-text tagging activity from [MovieLens](http://movielens.org), a movie recommendation service. It contains 25000095 ratings and 1093360 tag applications across 62423 movies. These data were created by 162541 users between January 09, 1995 and November 21, 2019. This dataset was generated on November 21, 2019.\\n',\n",
       " '\\n',\n",
       " 'Users were selected at random for inclusion. All selected users had rated at least 20 movies. No demographic information is included. Each user is represented by an id, and no other information is provided.\\n',\n",
       " '\\n',\n",
       " 'The data are contained in the files `genome-scores.csv`, `genome-tags.csv`, `links.csv`, `movies.csv`, `ratings.csv` and `tags.csv`. More details about the contents and use of all these files follows.\\n',\n",
       " '\\n',\n",
       " 'This and other GroupLens data sets are publicly available for download at <http://grouplens.org/datasets/>.\\n',\n",
       " '\\n',\n",
       " '\\n',\n",
       " 'Usage License\\n',\n",
       " '=============\\n',\n",
       " '\\n',\n",
       " 'Neither the University of Minnesota nor any of the researchers involved can guarantee the correctness of the data, its suitability for any particular purpose, or the validity of results based on the use of the data set. The data set may be used for any research purposes under the following conditions:\\n',\n",
       " '\\n',\n",
       " '* The user may not state or imply any endorsement from the University of Minnesota or the GroupLens Research Group.\\n',\n",
       " '* The user must acknowledge the use of the data set in publications resulting from the use of the data set (see below for citation information).\\n',\n",
       " '* The user may not redistribute the data without separate permission.\\n',\n",
       " '* The user may not use this information for any commercial or revenue-bearing purposes without first obtaining permission from a faculty member of the GroupLens Research Project at the University of Minnesota.\\n',\n",
       " '* The executable software scripts are provided \"as is\" without warranty of any kind, either expressed or implied, including, but not limited to, the implied warranties of merchantability and fitness for a particular purpose. The entire risk as to the quality and performance of them is with you. Should the program prove defective, you assume the cost of all necessary servicing, repair or correction.\\n',\n",
       " '\\n',\n",
       " 'In no event shall the University of Minnesota, its affiliates or employees be liable to you for any damages arising out of the use or inability to use these programs (including but not limited to loss of data or data being rendered inaccurate).\\n',\n",
       " '\\n',\n",
       " 'If you have any further questions or comments, please email <grouplens-info@umn.edu>\\n',\n",
       " '\\n',\n",
       " '\\n',\n",
       " 'Citation\\n',\n",
       " '========\\n',\n",
       " '\\n',\n",
       " 'To acknowledge use of the dataset in publications, please cite the following paper:\\n',\n",
       " '\\n',\n",
       " '> F. Maxwell Harper and Joseph A. Konstan. 2015. The MovieLens Datasets: History and Context. ACM Transactions on Interactive Intelligent Systems (TiiS) 5, 4: 19:1–19:19. <https://doi.org/10.1145/2827872>\\n',\n",
       " '\\n',\n",
       " '\\n',\n",
       " 'Further Information About GroupLens\\n',\n",
       " '===================================\\n',\n",
       " '\\n',\n",
       " \"GroupLens is a research group in the Department of Computer Science and Engineering at the University of Minnesota. Since its inception in 1992, GroupLens's research projects have explored a variety of fields including:\\n\",\n",
       " '\\n',\n",
       " '* recommender systems\\n',\n",
       " '* online communities\\n',\n",
       " '* mobile and ubiquitious technologies\\n',\n",
       " '* digital libraries\\n',\n",
       " '* local geographic information systems\\n',\n",
       " '\\n',\n",
       " 'GroupLens Research operates a movie recommender based on collaborative filtering, MovieLens, which is the source of these data. We encourage you to visit <http://movielens.org> to try it out! If you have exciting ideas for experimental work to conduct on MovieLens, send us an email at <grouplens-info@cs.umn.edu> - we are always interested in working with external collaborators.\\n',\n",
       " '\\n',\n",
       " '\\n',\n",
       " 'Content and Use of Files\\n',\n",
       " '========================\\n',\n",
       " '\\n',\n",
       " 'Verifying the Dataset Contents\\n',\n",
       " '------------------------------\\n',\n",
       " '\\n',\n",
       " 'We encourage you to verify that the dataset you have on your computer is identical to the ones hosted at [grouplens.org](http://grouplens.org).  This is an important step if you downloaded the dataset from a location other than [grouplens.org](http://grouplens.org), or if you wish to publish research results based on analysis of the MovieLens dataset.\\n',\n",
       " '\\n',\n",
       " 'We provide a [MD5 checksum](http://en.wikipedia.org/wiki/Md5sum) with the same name as the downloadable `.zip` file, but with a `.md5` file extension. To verify the dataset:\\n',\n",
       " '\\n',\n",
       " '    # on linux\\n',\n",
       " '    md5sum ml-25m.zip; cat ml-25m.zip.md5\\n',\n",
       " '\\n',\n",
       " '    # on OSX\\n',\n",
       " '    md5 ml-25m.zip; cat ml-25m.zip.md5\\n',\n",
       " '\\n',\n",
       " '    # windows users can download a tool from Microsoft (or elsewhere) that verifies MD5 checksums\\n',\n",
       " '\\n',\n",
       " 'Check that the two lines of output contain the same hash value.\\n',\n",
       " '\\n',\n",
       " '\\n',\n",
       " 'Formatting and Encoding\\n',\n",
       " '-----------------------\\n',\n",
       " '\\n',\n",
       " 'The dataset files are written as [comma-separated values](http://en.wikipedia.org/wiki/Comma-separated_values) files with a single header row. Columns that contain commas (`,`) are escaped using double-quotes (`\"`). These files are encoded as UTF-8. If accented characters in movie titles or tag values (e.g. Misérables, Les (1995)) display incorrectly, make sure that any program reading the data, such as a text editor, terminal, or script, is configured for UTF-8.\\n',\n",
       " '\\n',\n",
       " '\\n',\n",
       " 'User Ids\\n',\n",
       " '--------\\n',\n",
       " '\\n',\n",
       " 'MovieLens users were selected at random for inclusion. Their ids have been anonymized. User ids are consistent between `ratings.csv` and `tags.csv` (i.e., the same id refers to the same user across the two files).\\n',\n",
       " '\\n',\n",
       " '\\n',\n",
       " 'Movie Ids\\n',\n",
       " '---------\\n',\n",
       " '\\n',\n",
       " 'Only movies with at least one rating or tag are included in the dataset. These movie ids are consistent with those used on the MovieLens web site (e.g., id `1` corresponds to the URL <https://movielens.org/movies/1>). Movie ids are consistent between `ratings.csv`, `tags.csv`, `movies.csv`, and `links.csv` (i.e., the same id refers to the same movie across these four data files).\\n',\n",
       " '\\n',\n",
       " '\\n',\n",
       " 'Ratings Data File Structure (ratings.csv)\\n',\n",
       " '-----------------------------------------\\n',\n",
       " '\\n',\n",
       " 'All ratings are contained in the file `ratings.csv`. Each line of this file after the header row represents one rating of one movie by one user, and has the following format:\\n',\n",
       " '\\n',\n",
       " '    userId,movieId,rating,timestamp\\n',\n",
       " '\\n',\n",
       " 'The lines within this file are ordered first by userId, then, within user, by movieId.\\n',\n",
       " '\\n',\n",
       " 'Ratings are made on a 5-star scale, with half-star increments (0.5 stars - 5.0 stars).\\n',\n",
       " '\\n',\n",
       " 'Timestamps represent seconds since midnight Coordinated Universal Time (UTC) of January 1, 1970.\\n',\n",
       " '\\n',\n",
       " '\\n',\n",
       " 'Tags Data File Structure (tags.csv)\\n',\n",
       " '-----------------------------------\\n',\n",
       " '\\n',\n",
       " 'All tags are contained in the file `tags.csv`. Each line of this file after the header row represents one tag applied to one movie by one user, and has the following format:\\n',\n",
       " '\\n',\n",
       " '    userId,movieId,tag,timestamp\\n',\n",
       " '\\n',\n",
       " 'The lines within this file are ordered first by userId, then, within user, by movieId.\\n',\n",
       " '\\n',\n",
       " 'Tags are user-generated metadata about movies. Each tag is typically a single word or short phrase. The meaning, value, and purpose of a particular tag is determined by each user.\\n',\n",
       " '\\n',\n",
       " 'Timestamps represent seconds since midnight Coordinated Universal Time (UTC) of January 1, 1970.\\n',\n",
       " '\\n',\n",
       " '\\n',\n",
       " 'Movies Data File Structure (movies.csv)\\n',\n",
       " '---------------------------------------\\n',\n",
       " '\\n',\n",
       " 'Movie information is contained in the file `movies.csv`. Each line of this file after the header row represents one movie, and has the following format:\\n',\n",
       " '\\n',\n",
       " '    movieId,title,genres\\n',\n",
       " '\\n',\n",
       " 'Movie titles are entered manually or imported from <https://www.themoviedb.org/>, and include the year of release in parentheses. Errors and inconsistencies may exist in these titles.\\n',\n",
       " '\\n',\n",
       " 'Genres are a pipe-separated list, and are selected from the following:\\n',\n",
       " '\\n',\n",
       " '* Action\\n',\n",
       " '* Adventure\\n',\n",
       " '* Animation\\n',\n",
       " \"* Children's\\n\",\n",
       " '* Comedy\\n',\n",
       " '* Crime\\n',\n",
       " '* Documentary\\n',\n",
       " '* Drama\\n',\n",
       " '* Fantasy\\n',\n",
       " '* Film-Noir\\n',\n",
       " '* Horror\\n',\n",
       " '* Musical\\n',\n",
       " '* Mystery\\n',\n",
       " '* Romance\\n',\n",
       " '* Sci-Fi\\n',\n",
       " '* Thriller\\n',\n",
       " '* War\\n',\n",
       " '* Western\\n',\n",
       " '* (no genres listed)\\n',\n",
       " '\\n',\n",
       " '\\n',\n",
       " 'Links Data File Structure (links.csv)\\n',\n",
       " '---------------------------------------\\n',\n",
       " '\\n',\n",
       " 'Identifiers that can be used to link to other sources of movie data are contained in the file `links.csv`. Each line of this file after the header row represents one movie, and has the following format:\\n',\n",
       " '\\n',\n",
       " '    movieId,imdbId,tmdbId\\n',\n",
       " '\\n',\n",
       " 'movieId is an identifier for movies used by <https://movielens.org>. E.g., the movie Toy Story has the link <https://movielens.org/movies/1>.\\n',\n",
       " '\\n',\n",
       " 'imdbId is an identifier for movies used by <http://www.imdb.com>. E.g., the movie Toy Story has the link <http://www.imdb.com/title/tt0114709/>.\\n',\n",
       " '\\n',\n",
       " 'tmdbId is an identifier for movies used by <https://www.themoviedb.org>. E.g., the movie Toy Story has the link <https://www.themoviedb.org/movie/862>.\\n',\n",
       " '\\n',\n",
       " 'Use of the resources listed above is subject to the terms of each provider.\\n',\n",
       " '\\n',\n",
       " '\\n',\n",
       " 'Tag Genome (genome-scores.csv and genome-tags.csv)\\n',\n",
       " '-------------------------------------------------\\n',\n",
       " '\\n',\n",
       " 'This data set includes a current copy of the Tag Genome.\\n',\n",
       " '\\n',\n",
       " '[genome-paper]: http://files.grouplens.org/papers/tag_genome.pdf\\n',\n",
       " '\\n',\n",
       " 'The tag genome is a data structure that contains tag relevance scores for movies.  The structure is a dense matrix: each movie in the genome has a value for *every* tag in the genome.\\n',\n",
       " '\\n',\n",
       " 'As described in [this article][genome-paper], the tag genome encodes how strongly movies exhibit particular properties represented by tags (atmospheric, thought-provoking, realistic, etc.). The tag genome was computed using a machine learning algorithm on user-contributed content including tags, ratings, and textual reviews.\\n',\n",
       " '\\n',\n",
       " 'The genome is split into two files.  The file `genome-scores.csv` contains movie-tag relevance data in the following format:\\n',\n",
       " '\\n',\n",
       " '    movieId,tagId,relevance\\n',\n",
       " '\\n',\n",
       " 'The second file, `genome-tags.csv`, provides the tag descriptions for the tag IDs in the genome file, in the following format:\\n',\n",
       " '\\n',\n",
       " '    tagId,tag\\n',\n",
       " '\\n',\n",
       " 'The `tagId` values are generated when the data set is exported, so they may vary from version to version of the MovieLens data sets.\\n',\n",
       " '\\n',\n",
       " 'Please include the following citation if referencing tag genome data:\\n',\n",
       " '\\n',\n",
       " '> Jesse Vig, Shilad Sen, and John Riedl. 2012. The Tag Genome: Encoding Community Knowledge to Support Novel Interaction. ACM Trans. Interact. Intell. Syst. 2, 3: 13:1–13:44. <https://doi.org/10.1145/2362394.2362395>\\n',\n",
       " '\\n',\n",
       " '\\n',\n",
       " 'Cross-Validation\\n',\n",
       " '----------------\\n',\n",
       " '\\n',\n",
       " 'Prior versions of the MovieLens dataset included either pre-computed cross-folds or scripts to perform this computation. We no longer bundle either of these features with the dataset, since most modern toolkits provide this as a built-in feature. If you wish to learn about standard approaches to cross-fold computation in the context of recommender systems evaluation, see [LensKit](http://lenskit.org) for tools, documentation, and open-source code examples.\\n']"
      ]
     },
     "execution_count": 8,
     "metadata": {},
     "output_type": "execute_result"
    }
   ],
   "source": [
    "readme.readlines()"
   ]
  },
  {
   "cell_type": "code",
   "execution_count": 9,
   "metadata": {
    "scrolled": true
   },
   "outputs": [
    {
     "data": {
      "text/html": [
       "<div>\n",
       "<style scoped>\n",
       "    .dataframe tbody tr th:only-of-type {\n",
       "        vertical-align: middle;\n",
       "    }\n",
       "\n",
       "    .dataframe tbody tr th {\n",
       "        vertical-align: top;\n",
       "    }\n",
       "\n",
       "    .dataframe thead th {\n",
       "        text-align: right;\n",
       "    }\n",
       "</style>\n",
       "<table border=\"1\" class=\"dataframe\">\n",
       "  <thead>\n",
       "    <tr style=\"text-align: right;\">\n",
       "      <th></th>\n",
       "      <th>userId</th>\n",
       "      <th>movieId</th>\n",
       "      <th>rating</th>\n",
       "      <th>timestamp</th>\n",
       "    </tr>\n",
       "  </thead>\n",
       "  <tbody>\n",
       "    <tr>\n",
       "      <th>0</th>\n",
       "      <td>1</td>\n",
       "      <td>296</td>\n",
       "      <td>5.0</td>\n",
       "      <td>1147880044</td>\n",
       "    </tr>\n",
       "    <tr>\n",
       "      <th>1</th>\n",
       "      <td>1</td>\n",
       "      <td>306</td>\n",
       "      <td>3.5</td>\n",
       "      <td>1147868817</td>\n",
       "    </tr>\n",
       "    <tr>\n",
       "      <th>2</th>\n",
       "      <td>1</td>\n",
       "      <td>307</td>\n",
       "      <td>5.0</td>\n",
       "      <td>1147868828</td>\n",
       "    </tr>\n",
       "    <tr>\n",
       "      <th>3</th>\n",
       "      <td>1</td>\n",
       "      <td>665</td>\n",
       "      <td>5.0</td>\n",
       "      <td>1147878820</td>\n",
       "    </tr>\n",
       "    <tr>\n",
       "      <th>4</th>\n",
       "      <td>1</td>\n",
       "      <td>899</td>\n",
       "      <td>3.5</td>\n",
       "      <td>1147868510</td>\n",
       "    </tr>\n",
       "  </tbody>\n",
       "</table>\n",
       "</div>"
      ],
      "text/plain": [
       "   userId  movieId  rating   timestamp\n",
       "0       1      296     5.0  1147880044\n",
       "1       1      306     3.5  1147868817\n",
       "2       1      307     5.0  1147868828\n",
       "3       1      665     5.0  1147878820\n",
       "4       1      899     3.5  1147868510"
      ]
     },
     "execution_count": 9,
     "metadata": {},
     "output_type": "execute_result"
    }
   ],
   "source": [
    "# Create the ratings dataframe\n",
    "ratings = pd.read_csv(path/'ratings.csv', delimiter=',', header=[0])\n",
    "ratings.head()"
   ]
  },
  {
   "cell_type": "code",
   "execution_count": 10,
   "metadata": {},
   "outputs": [
    {
     "data": {
      "text/html": [
       "<div>\n",
       "<style scoped>\n",
       "    .dataframe tbody tr th:only-of-type {\n",
       "        vertical-align: middle;\n",
       "    }\n",
       "\n",
       "    .dataframe tbody tr th {\n",
       "        vertical-align: top;\n",
       "    }\n",
       "\n",
       "    .dataframe thead th {\n",
       "        text-align: right;\n",
       "    }\n",
       "</style>\n",
       "<table border=\"1\" class=\"dataframe\">\n",
       "  <thead>\n",
       "    <tr style=\"text-align: right;\">\n",
       "      <th></th>\n",
       "      <th>movieId</th>\n",
       "      <th>title</th>\n",
       "      <th>genres</th>\n",
       "    </tr>\n",
       "  </thead>\n",
       "  <tbody>\n",
       "    <tr>\n",
       "      <th>0</th>\n",
       "      <td>1</td>\n",
       "      <td>Toy Story (1995)</td>\n",
       "      <td>Adventure|Animation|Children|Comedy|Fantasy</td>\n",
       "    </tr>\n",
       "    <tr>\n",
       "      <th>1</th>\n",
       "      <td>2</td>\n",
       "      <td>Jumanji (1995)</td>\n",
       "      <td>Adventure|Children|Fantasy</td>\n",
       "    </tr>\n",
       "    <tr>\n",
       "      <th>2</th>\n",
       "      <td>3</td>\n",
       "      <td>Grumpier Old Men (1995)</td>\n",
       "      <td>Comedy|Romance</td>\n",
       "    </tr>\n",
       "    <tr>\n",
       "      <th>3</th>\n",
       "      <td>4</td>\n",
       "      <td>Waiting to Exhale (1995)</td>\n",
       "      <td>Comedy|Drama|Romance</td>\n",
       "    </tr>\n",
       "    <tr>\n",
       "      <th>4</th>\n",
       "      <td>5</td>\n",
       "      <td>Father of the Bride Part II (1995)</td>\n",
       "      <td>Comedy</td>\n",
       "    </tr>\n",
       "  </tbody>\n",
       "</table>\n",
       "</div>"
      ],
      "text/plain": [
       "   movieId                               title  \\\n",
       "0        1                    Toy Story (1995)   \n",
       "1        2                      Jumanji (1995)   \n",
       "2        3             Grumpier Old Men (1995)   \n",
       "3        4            Waiting to Exhale (1995)   \n",
       "4        5  Father of the Bride Part II (1995)   \n",
       "\n",
       "                                        genres  \n",
       "0  Adventure|Animation|Children|Comedy|Fantasy  \n",
       "1                   Adventure|Children|Fantasy  \n",
       "2                               Comedy|Romance  \n",
       "3                         Comedy|Drama|Romance  \n",
       "4                                       Comedy  "
      ]
     },
     "execution_count": 10,
     "metadata": {},
     "output_type": "execute_result"
    }
   ],
   "source": [
    "# Create the movies dataframe\n",
    "movies = pd.read_csv(path/'movies.csv', delimiter=',', header=[0])\n",
    "movies.head()"
   ]
  },
  {
   "cell_type": "code",
   "execution_count": 11,
   "metadata": {},
   "outputs": [],
   "source": [
    "# Merge the two dataframes\n",
    "ratings = ratings.merge(movies, on = 'movieId')"
   ]
  },
  {
   "cell_type": "code",
   "execution_count": 12,
   "metadata": {
    "scrolled": true
   },
   "outputs": [
    {
     "data": {
      "text/html": [
       "<div>\n",
       "<style scoped>\n",
       "    .dataframe tbody tr th:only-of-type {\n",
       "        vertical-align: middle;\n",
       "    }\n",
       "\n",
       "    .dataframe tbody tr th {\n",
       "        vertical-align: top;\n",
       "    }\n",
       "\n",
       "    .dataframe thead th {\n",
       "        text-align: right;\n",
       "    }\n",
       "</style>\n",
       "<table border=\"1\" class=\"dataframe\">\n",
       "  <thead>\n",
       "    <tr style=\"text-align: right;\">\n",
       "      <th></th>\n",
       "      <th>userId</th>\n",
       "      <th>movieId</th>\n",
       "      <th>rating</th>\n",
       "      <th>timestamp</th>\n",
       "      <th>title</th>\n",
       "      <th>genres</th>\n",
       "    </tr>\n",
       "  </thead>\n",
       "  <tbody>\n",
       "    <tr>\n",
       "      <th>0</th>\n",
       "      <td>1</td>\n",
       "      <td>296</td>\n",
       "      <td>5.0</td>\n",
       "      <td>1147880044</td>\n",
       "      <td>Pulp Fiction (1994)</td>\n",
       "      <td>Comedy|Crime|Drama|Thriller</td>\n",
       "    </tr>\n",
       "    <tr>\n",
       "      <th>1</th>\n",
       "      <td>3</td>\n",
       "      <td>296</td>\n",
       "      <td>5.0</td>\n",
       "      <td>1439474476</td>\n",
       "      <td>Pulp Fiction (1994)</td>\n",
       "      <td>Comedy|Crime|Drama|Thriller</td>\n",
       "    </tr>\n",
       "    <tr>\n",
       "      <th>2</th>\n",
       "      <td>4</td>\n",
       "      <td>296</td>\n",
       "      <td>4.0</td>\n",
       "      <td>1573938898</td>\n",
       "      <td>Pulp Fiction (1994)</td>\n",
       "      <td>Comedy|Crime|Drama|Thriller</td>\n",
       "    </tr>\n",
       "    <tr>\n",
       "      <th>3</th>\n",
       "      <td>5</td>\n",
       "      <td>296</td>\n",
       "      <td>4.0</td>\n",
       "      <td>830786155</td>\n",
       "      <td>Pulp Fiction (1994)</td>\n",
       "      <td>Comedy|Crime|Drama|Thriller</td>\n",
       "    </tr>\n",
       "    <tr>\n",
       "      <th>4</th>\n",
       "      <td>7</td>\n",
       "      <td>296</td>\n",
       "      <td>4.0</td>\n",
       "      <td>835444730</td>\n",
       "      <td>Pulp Fiction (1994)</td>\n",
       "      <td>Comedy|Crime|Drama|Thriller</td>\n",
       "    </tr>\n",
       "    <tr>\n",
       "      <th>5</th>\n",
       "      <td>8</td>\n",
       "      <td>296</td>\n",
       "      <td>5.0</td>\n",
       "      <td>890489713</td>\n",
       "      <td>Pulp Fiction (1994)</td>\n",
       "      <td>Comedy|Crime|Drama|Thriller</td>\n",
       "    </tr>\n",
       "    <tr>\n",
       "      <th>6</th>\n",
       "      <td>10</td>\n",
       "      <td>296</td>\n",
       "      <td>4.5</td>\n",
       "      <td>1227571308</td>\n",
       "      <td>Pulp Fiction (1994)</td>\n",
       "      <td>Comedy|Crime|Drama|Thriller</td>\n",
       "    </tr>\n",
       "    <tr>\n",
       "      <th>7</th>\n",
       "      <td>12</td>\n",
       "      <td>296</td>\n",
       "      <td>5.0</td>\n",
       "      <td>1119354604</td>\n",
       "      <td>Pulp Fiction (1994)</td>\n",
       "      <td>Comedy|Crime|Drama|Thriller</td>\n",
       "    </tr>\n",
       "    <tr>\n",
       "      <th>8</th>\n",
       "      <td>13</td>\n",
       "      <td>296</td>\n",
       "      <td>5.0</td>\n",
       "      <td>1238029599</td>\n",
       "      <td>Pulp Fiction (1994)</td>\n",
       "      <td>Comedy|Crime|Drama|Thriller</td>\n",
       "    </tr>\n",
       "    <tr>\n",
       "      <th>9</th>\n",
       "      <td>14</td>\n",
       "      <td>296</td>\n",
       "      <td>5.0</td>\n",
       "      <td>1506208897</td>\n",
       "      <td>Pulp Fiction (1994)</td>\n",
       "      <td>Comedy|Crime|Drama|Thriller</td>\n",
       "    </tr>\n",
       "  </tbody>\n",
       "</table>\n",
       "</div>"
      ],
      "text/plain": [
       "   userId  movieId  rating   timestamp                title  \\\n",
       "0       1      296     5.0  1147880044  Pulp Fiction (1994)   \n",
       "1       3      296     5.0  1439474476  Pulp Fiction (1994)   \n",
       "2       4      296     4.0  1573938898  Pulp Fiction (1994)   \n",
       "3       5      296     4.0   830786155  Pulp Fiction (1994)   \n",
       "4       7      296     4.0   835444730  Pulp Fiction (1994)   \n",
       "5       8      296     5.0   890489713  Pulp Fiction (1994)   \n",
       "6      10      296     4.5  1227571308  Pulp Fiction (1994)   \n",
       "7      12      296     5.0  1119354604  Pulp Fiction (1994)   \n",
       "8      13      296     5.0  1238029599  Pulp Fiction (1994)   \n",
       "9      14      296     5.0  1506208897  Pulp Fiction (1994)   \n",
       "\n",
       "                        genres  \n",
       "0  Comedy|Crime|Drama|Thriller  \n",
       "1  Comedy|Crime|Drama|Thriller  \n",
       "2  Comedy|Crime|Drama|Thriller  \n",
       "3  Comedy|Crime|Drama|Thriller  \n",
       "4  Comedy|Crime|Drama|Thriller  \n",
       "5  Comedy|Crime|Drama|Thriller  \n",
       "6  Comedy|Crime|Drama|Thriller  \n",
       "7  Comedy|Crime|Drama|Thriller  \n",
       "8  Comedy|Crime|Drama|Thriller  \n",
       "9  Comedy|Crime|Drama|Thriller  "
      ]
     },
     "execution_count": 12,
     "metadata": {},
     "output_type": "execute_result"
    }
   ],
   "source": [
    "ratings.head(10)"
   ]
  },
  {
   "cell_type": "code",
   "execution_count": 17,
   "metadata": {
    "scrolled": true
   },
   "outputs": [],
   "source": [
    "# Create the dataloaders\n",
    "dls = CollabDataLoaders.from_df(ratings, user_name = 'userId', item_name = 'title', rating_name = 'rating', \n",
    "                                bs = 64)"
   ]
  },
  {
   "cell_type": "code",
   "execution_count": 18,
   "metadata": {
    "scrolled": true
   },
   "outputs": [
    {
     "data": {
      "text/html": [
       "<table border=\"1\" class=\"dataframe\">\n",
       "  <thead>\n",
       "    <tr style=\"text-align: right;\">\n",
       "      <th></th>\n",
       "      <th>userId</th>\n",
       "      <th>title</th>\n",
       "      <th>rating</th>\n",
       "    </tr>\n",
       "  </thead>\n",
       "  <tbody>\n",
       "    <tr>\n",
       "      <th>0</th>\n",
       "      <td>149775</td>\n",
       "      <td>Sleeping Giant (2015)</td>\n",
       "      <td>3.0</td>\n",
       "    </tr>\n",
       "    <tr>\n",
       "      <th>1</th>\n",
       "      <td>128814</td>\n",
       "      <td>Austin Powers in Goldmember (2002)</td>\n",
       "      <td>3.0</td>\n",
       "    </tr>\n",
       "    <tr>\n",
       "      <th>2</th>\n",
       "      <td>146281</td>\n",
       "      <td>The Happiest Day in the Life of Olli Mäki (2016)</td>\n",
       "      <td>4.5</td>\n",
       "    </tr>\n",
       "    <tr>\n",
       "      <th>3</th>\n",
       "      <td>143864</td>\n",
       "      <td>Halloween 5: The Revenge of Michael Myers (1989)</td>\n",
       "      <td>3.0</td>\n",
       "    </tr>\n",
       "    <tr>\n",
       "      <th>4</th>\n",
       "      <td>65471</td>\n",
       "      <td>Heat (1995)</td>\n",
       "      <td>5.0</td>\n",
       "    </tr>\n",
       "    <tr>\n",
       "      <th>5</th>\n",
       "      <td>142111</td>\n",
       "      <td>Star Wars: Episode VI - Return of the Jedi (1983)</td>\n",
       "      <td>4.5</td>\n",
       "    </tr>\n",
       "    <tr>\n",
       "      <th>6</th>\n",
       "      <td>132548</td>\n",
       "      <td>50/50 (2011)</td>\n",
       "      <td>3.0</td>\n",
       "    </tr>\n",
       "    <tr>\n",
       "      <th>7</th>\n",
       "      <td>58679</td>\n",
       "      <td>Mulan (1998)</td>\n",
       "      <td>3.5</td>\n",
       "    </tr>\n",
       "    <tr>\n",
       "      <th>8</th>\n",
       "      <td>106358</td>\n",
       "      <td>Heartbreak Ridge (1986)</td>\n",
       "      <td>4.0</td>\n",
       "    </tr>\n",
       "    <tr>\n",
       "      <th>9</th>\n",
       "      <td>139560</td>\n",
       "      <td>The Butterfly Effect (2004)</td>\n",
       "      <td>5.0</td>\n",
       "    </tr>\n",
       "  </tbody>\n",
       "</table>"
      ],
      "text/plain": [
       "<IPython.core.display.HTML object>"
      ]
     },
     "metadata": {},
     "output_type": "display_data"
    }
   ],
   "source": [
    "dls.show_batch()"
   ]
  },
  {
   "cell_type": "code",
   "execution_count": 19,
   "metadata": {},
   "outputs": [],
   "source": [
    "learn = collab_learner(dls, n_factors=50, y_range=(0,5.5))"
   ]
  },
  {
   "cell_type": "code",
   "execution_count": 20,
   "metadata": {
    "scrolled": false
   },
   "outputs": [
    {
     "data": {
      "text/html": [
       "<table border=\"1\" class=\"dataframe\">\n",
       "  <thead>\n",
       "    <tr style=\"text-align: left;\">\n",
       "      <th>epoch</th>\n",
       "      <th>train_loss</th>\n",
       "      <th>valid_loss</th>\n",
       "      <th>time</th>\n",
       "    </tr>\n",
       "  </thead>\n",
       "  <tbody>\n",
       "    <tr>\n",
       "      <td>0</td>\n",
       "      <td>0.954976</td>\n",
       "      <td>1.005482</td>\n",
       "      <td>53:52</td>\n",
       "    </tr>\n",
       "    <tr>\n",
       "      <td>1</td>\n",
       "      <td>1.008398</td>\n",
       "      <td>1.004600</td>\n",
       "      <td>53:46</td>\n",
       "    </tr>\n",
       "    <tr>\n",
       "      <td>2</td>\n",
       "      <td>0.965274</td>\n",
       "      <td>0.976236</td>\n",
       "      <td>53:44</td>\n",
       "    </tr>\n",
       "    <tr>\n",
       "      <td>3</td>\n",
       "      <td>0.961582</td>\n",
       "      <td>0.928273</td>\n",
       "      <td>53:44</td>\n",
       "    </tr>\n",
       "    <tr>\n",
       "      <td>4</td>\n",
       "      <td>0.881228</td>\n",
       "      <td>0.894774</td>\n",
       "      <td>53:43</td>\n",
       "    </tr>\n",
       "  </tbody>\n",
       "</table>"
      ],
      "text/plain": [
       "<IPython.core.display.HTML object>"
      ]
     },
     "metadata": {},
     "output_type": "display_data"
    }
   ],
   "source": [
    "learn.fit_one_cycle(5, 5e-3, wd=0.1)"
   ]
  },
  {
   "cell_type": "markdown",
   "metadata": {},
   "source": [
    "# Interpreting the results"
   ]
  },
  {
   "cell_type": "code",
   "execution_count": 24,
   "metadata": {},
   "outputs": [
    {
     "data": {
      "text/plain": [
       "array(['Forrest Gump (1994)', 'Shawshank Redemption, The (1994)', 'Pulp Fiction (1994)', 'Silence of the Lambs, The (1991)', 'Matrix, The (1999)', 'Star Wars: Episode IV - A New Hope (1977)',\n",
       "       'Jurassic Park (1993)', \"Schindler's List (1993)\", 'Braveheart (1995)', 'Fight Club (1999)'], dtype=object)"
      ]
     },
     "execution_count": 24,
     "metadata": {},
     "output_type": "execute_result"
    }
   ],
   "source": [
    "# Analyze the results using the 1000 most rated movies\n",
    "g = ratings.groupby('title')['rating'].count()\n",
    "top_movies = g.sort_values(ascending=False).index.values[:1000]\n",
    "top_movies[:10]"
   ]
  },
  {
   "cell_type": "code",
   "execution_count": 25,
   "metadata": {},
   "outputs": [
    {
     "data": {
      "text/plain": [
       "torch.Size([1000])"
      ]
     },
     "execution_count": 25,
     "metadata": {},
     "output_type": "execute_result"
    }
   ],
   "source": [
    "# Pull the bias of each movie to find the 'value' of each movie\n",
    "movie_bias = learn.model.bias(top_movies, is_item=True)\n",
    "movie_bias.shape"
   ]
  },
  {
   "cell_type": "code",
   "execution_count": 28,
   "metadata": {},
   "outputs": [],
   "source": [
    "# Compare the biases with the average ratings\n",
    "mean_ratings = ratings.groupby('title')['rating'].mean()\n",
    "movie_ratings = [(b, i, mean_ratings.loc[i]) for i,b in zip(\n",
    "    top_movies, movie_bias)]"
   ]
  },
  {
   "cell_type": "code",
   "execution_count": 29,
   "metadata": {},
   "outputs": [
    {
     "data": {
      "text/plain": [
       "[(tensor(-0.2502), 'Batman & Robin (1997)', 2.160149918962723),\n",
       " (tensor(-0.2207), 'Wild Wild West (1999)', 2.31967073274759),\n",
       " (tensor(-0.2018), 'Showgirls (1995)', 2.2478297395687483),\n",
       " (tensor(-0.1736), 'Godzilla (1998)', 2.373144567793439),\n",
       " (tensor(-0.1669), 'Flintstones, The (1994)', 2.4127870563674323),\n",
       " (tensor(-0.1442), 'Scream 3 (2000)', 2.430953105968331),\n",
       " (tensor(-0.1422), 'Striptease (1996)', 2.403895524054024),\n",
       " (tensor(-0.1268),\n",
       "  'I Know What You Did Last Summer (1997)',\n",
       "  2.4885263297519566),\n",
       " (tensor(-0.1104), 'Hollow Man (2000)', 2.53809586689555),\n",
       " (tensor(-0.1102), 'Daredevil (2003)', 2.5169466106778646),\n",
       " (tensor(-0.1088), 'Coneheads (1993)', 2.5814764286797027),\n",
       " (tensor(-0.1071),\n",
       "  'Ace Ventura: When Nature Calls (1995)',\n",
       "  2.6421677802524126),\n",
       " (tensor(-0.1047), 'Judge Dredd (1995)', 2.555359804851606),\n",
       " (tensor(-0.1027), 'Honey, I Shrunk the Kids (1989)', 2.718742232165051),\n",
       " (tensor(-0.0903), 'Lost in Space (1998)', 2.5775415644589805)]"
      ]
     },
     "execution_count": 29,
     "metadata": {},
     "output_type": "execute_result"
    }
   ],
   "source": [
    "# Analyze the movies with the worst bias\n",
    "item0 = lambda o:o[0]\n",
    "sorted(movie_ratings, key=item0)[:15]"
   ]
  },
  {
   "cell_type": "code",
   "execution_count": 32,
   "metadata": {},
   "outputs": [
    {
     "data": {
      "text/plain": [
       "[(tensor(1.0189), 'Shawshank Redemption, The (1994)', 4.413576004516335),\n",
       " (tensor(0.8634), 'Usual Suspects, The (1995)', 4.284353213163313),\n",
       " (tensor(0.8501), 'Godfather, The (1972)', 4.324336165187245),\n",
       " (tensor(0.8345), \"Schindler's List (1993)\", 4.247579083279535),\n",
       " (tensor(0.8068), 'Fight Club (1999)', 4.228310618821568),\n",
       " (tensor(0.7974), 'Silence of the Lambs, The (1991)', 4.151341616415071),\n",
       " (tensor(0.7794), 'Pulp Fiction (1994)', 4.188912039361382),\n",
       " (tensor(0.7578), 'Matrix, The (1999)', 4.154099127610975),\n",
       " (tensor(0.7481), 'Godfather: Part II, The (1974)', 4.2617585117585115),\n",
       " (tensor(0.7322),\n",
       "  \"One Flew Over the Cuckoo's Nest (1975)\",\n",
       "  4.2186616007543405),\n",
       " (tensor(0.7316), 'Dark Knight, The (2008)', 4.166538211421277),\n",
       " (tensor(0.7309),\n",
       "  'Star Wars: Episode IV - A New Hope (1977)',\n",
       "  4.120188599618726),\n",
       " (tensor(0.7297), 'Inception (2010)', 4.155508420105412),\n",
       " (tensor(0.7297), 'Forrest Gump (1994)', 4.048011436845787),\n",
       " (tensor(0.7052), 'Memento (2000)', 4.1499575191163975)]"
      ]
     },
     "execution_count": 32,
     "metadata": {},
     "output_type": "execute_result"
    }
   ],
   "source": [
    "# Analyze the movies with the best bias\n",
    "sorted(movie_ratings, key=lambda o: o[0], reverse=True)[:15]"
   ]
  },
  {
   "cell_type": "markdown",
   "metadata": {},
   "source": [
    "## Analyze the learned latent factors"
   ]
  },
  {
   "cell_type": "code",
   "execution_count": 33,
   "metadata": {},
   "outputs": [
    {
     "data": {
      "text/plain": [
       "torch.Size([1000, 50])"
      ]
     },
     "execution_count": 33,
     "metadata": {},
     "output_type": "execute_result"
    }
   ],
   "source": [
    "# Grab the weights for each movie in top_movies\n",
    "movie_w = learn.model.weight(top_movies, is_item=True)\n",
    "movie_w.shape"
   ]
  },
  {
   "cell_type": "code",
   "execution_count": 34,
   "metadata": {},
   "outputs": [
    {
     "data": {
      "text/plain": [
       "torch.Size([1000, 3])"
      ]
     },
     "execution_count": 34,
     "metadata": {},
     "output_type": "execute_result"
    }
   ],
   "source": [
    "# Use a PCA to reduce the dimensions\n",
    "movie_pca = movie_w.pca(3)\n",
    "movie_pca.shape"
   ]
  },
  {
   "cell_type": "code",
   "execution_count": 35,
   "metadata": {},
   "outputs": [],
   "source": [
    "fac0,fac1,fac2 = movie_pca.t()\n",
    "movie_comp = [(f, i) for f,i in zip(fac0, top_movies)]"
   ]
  },
  {
   "cell_type": "code",
   "execution_count": 36,
   "metadata": {},
   "outputs": [
    {
     "data": {
      "text/plain": [
       "[(tensor(2.0241), 'Godfather, The (1972)'),\n",
       " (tensor(2.0184),\n",
       "  'Dr. Strangelove or: How I Learned to Stop Worrying and Love the Bomb (1964)'),\n",
       " (tensor(1.9945), 'Pulp Fiction (1994)'),\n",
       " (tensor(1.9480), 'Citizen Kane (1941)'),\n",
       " (tensor(1.9011), 'Casablanca (1942)'),\n",
       " (tensor(1.8510), 'Fargo (1996)'),\n",
       " (tensor(1.8296), 'Apocalypse Now (1979)'),\n",
       " (tensor(1.8024), \"One Flew Over the Cuckoo's Nest (1975)\"),\n",
       " (tensor(1.7925), 'Seven Samurai (Shichinin no samurai) (1954)'),\n",
       " (tensor(1.7653), 'Godfather: Part II, The (1974)')]"
      ]
     },
     "execution_count": 36,
     "metadata": {},
     "output_type": "execute_result"
    }
   ],
   "source": [
    "# Highest scores on the first dimension\n",
    "sorted(movie_comp, key=itemgetter(0), reverse=True)[:10]"
   ]
  },
  {
   "cell_type": "code",
   "execution_count": 37,
   "metadata": {},
   "outputs": [
    {
     "data": {
      "text/plain": [
       "[(tensor(-1.9987), 'Independence Day (a.k.a. ID4) (1996)'),\n",
       " (tensor(-1.9208), 'Net, The (1995)'),\n",
       " (tensor(-1.8854), 'Batman & Robin (1997)'),\n",
       " (tensor(-1.8441), 'Twister (1996)'),\n",
       " (tensor(-1.7815), 'Wild Wild West (1999)'),\n",
       " (tensor(-1.7648), 'Batman Forever (1995)'),\n",
       " (tensor(-1.7144), 'Armageddon (1998)'),\n",
       " (tensor(-1.7001), 'Congo (1995)'),\n",
       " (tensor(-1.6714), 'Judge Dredd (1995)'),\n",
       " (tensor(-1.5842), 'Broken Arrow (1996)')]"
      ]
     },
     "execution_count": 37,
     "metadata": {},
     "output_type": "execute_result"
    }
   ],
   "source": [
    "# Worst scores on the first dimension\n",
    "sorted(movie_comp, key=itemgetter(0))[:10]"
   ]
  },
  {
   "cell_type": "code",
   "execution_count": 38,
   "metadata": {},
   "outputs": [
    {
     "data": {
      "text/plain": [
       "[(tensor(1.3557), 'Showgirls (1995)'),\n",
       " (tensor(1.0483), 'Striptease (1996)'),\n",
       " (tensor(1.0077), 'Tank Girl (1995)'),\n",
       " (tensor(0.9997), 'Batman & Robin (1997)'),\n",
       " (tensor(0.9424), 'Thin Red Line, The (1998)'),\n",
       " (tensor(0.9393), 'Brady Bunch Movie, The (1995)'),\n",
       " (tensor(0.9297), 'Escape from L.A. (1996)'),\n",
       " (tensor(0.8972), 'Mission to Mars (2000)'),\n",
       " (tensor(0.8573), 'Blair Witch Project, The (1999)'),\n",
       " (tensor(0.8463), 'Eyes Wide Shut (1999)')]"
      ]
     },
     "execution_count": 38,
     "metadata": {},
     "output_type": "execute_result"
    }
   ],
   "source": [
    "# Highest scores on the second dimension\n",
    "movie_comp = [(f, i) for f,i in zip(fac1, top_movies)]\n",
    "sorted(movie_comp, key=itemgetter(0), reverse=True)[:10]"
   ]
  },
  {
   "cell_type": "code",
   "execution_count": 39,
   "metadata": {},
   "outputs": [
    {
     "data": {
      "text/plain": [
       "[(tensor(-1.3281), 'Lord of the Rings: The Return of the King, The (2003)'),\n",
       " (tensor(-1.3026), 'Shawshank Redemption, The (1994)'),\n",
       " (tensor(-1.2640), 'Inception (2010)'),\n",
       " (tensor(-1.2449), 'Lord of the Rings: The Two Towers, The (2002)'),\n",
       " (tensor(-1.2016), 'Dark Knight, The (2008)'),\n",
       " (tensor(-1.1732),\n",
       "  'Lord of the Rings: The Fellowship of the Ring, The (2001)'),\n",
       " (tensor(-1.1615), 'Gladiator (2000)'),\n",
       " (tensor(-1.1526), 'Forrest Gump (1994)'),\n",
       " (tensor(-1.1252), 'Matrix, The (1999)'),\n",
       " (tensor(-1.1222), 'Dark Knight Rises, The (2012)')]"
      ]
     },
     "execution_count": 39,
     "metadata": {},
     "output_type": "execute_result"
    }
   ],
   "source": [
    "# Lowest scores on the second dimension\n",
    "sorted(movie_comp, key=itemgetter(0))[:10]"
   ]
  },
  {
   "cell_type": "markdown",
   "metadata": {},
   "source": [
    "## Plot the movies according to their scores on the dimensions"
   ]
  },
  {
   "cell_type": "code",
   "execution_count": 41,
   "metadata": {},
   "outputs": [
    {
     "data": {
      "image/png": "[encoded data removed]",
      "text/plain": [
       "<Figure size 1080x1080 with 1 Axes>"
      ]
     },
     "metadata": {
      "needs_background": "light"
     },
     "output_type": "display_data"
    }
   ],
   "source": [
    "idxs = np.random.choice(len(top_movies), 50, replace=False)\n",
    "idxs = list(range(50))\n",
    "X = fac0[idxs]\n",
    "Y = fac2[idxs]\n",
    "plt.figure(figsize=(15,15))\n",
    "plt.scatter(X, Y)\n",
    "for i, x, y in zip(top_movies[idxs], X, Y):\n",
    "    plt.text(x,y,i, color=np.random.rand(3)*0.7, fontsize=11)\n",
    "plt.show()"
   ]
  }
 ],
 "metadata": {
  "kernelspec": {
   "display_name": "Python 3",
   "language": "python",
   "name": "python3"
  },
  "language_info": {
   "codemirror_mode": {
    "name": "ipython",
    "version": 3
   },
   "file_extension": ".py",
   "mimetype": "text/x-python",
   "name": "python",
   "nbconvert_exporter": "python",
   "pygments_lexer": "ipython3",
   "version": "3.8.6"
  }
 },
 "nbformat": 4,
 "nbformat_minor": 4
}
